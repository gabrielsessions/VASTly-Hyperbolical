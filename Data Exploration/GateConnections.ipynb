{
 "cells": [
  {
   "cell_type": "code",
   "execution_count": 1,
   "id": "7c2f2a86-3437-4fa3-9b88-338fdf478fbc",
   "metadata": {},
   "outputs": [],
   "source": [
    "import numpy as np\n",
    "import os\n",
    "import pandas as pd"
   ]
  },
  {
   "cell_type": "code",
   "execution_count": 48,
   "id": "2c259a1f-57af-4628-b8f7-f309dc569b3a",
   "metadata": {},
   "outputs": [
    {
     "name": "stdout",
     "output_type": "stream",
     "text": [
      "Done Processing\n",
      "7490\n"
     ]
    }
   ],
   "source": [
    "data = pd.read_csv('ordered_cars_id.csv')\n",
    "gateNames = data.gatename.unique()\n",
    "\n",
    "gateDict = {}\n",
    "for i in range(len(gateNames)):\n",
    "    gateDict[gateNames[i]] = i\n",
    "\n",
    "numGates = len(gateNames)\n",
    "adjacencyMatrix = np.zeros((numGates, numGates))\n",
    "\n",
    "curCarID = data.head(1)[\"gatename\"].get(0)\n",
    "prev = None\n",
    "for index, row in data.iterrows():\n",
    "    if (curCarID != row[\"carid\"]):\n",
    "        curCarID = row[\"carid\"]\n",
    "    else:\n",
    "        adjacencyMatrix[gateDict[prev[\"gatename\"]]][gateDict[row[\"gatename\"]]] += 1\n",
    "    prev = row\n",
    "    \n",
    "print(\"Done Processing\")\n",
    "    \n",
    "f = open(\"car_paths.txt\", 'w')\n",
    "maxValue = int(adjacencyMatrix.max())\n",
    "print(maxValue)\n",
    "for i in range(len(adjacencyMatrix)):\n",
    "    for j in range(len(adjacencyMatrix)):\n",
    "        if (int(adjacencyMatrix[i][j]) > 0):\n",
    "            #f.write(str(int(adjacencyMatrix[i][j])) + \" people travelled between \" + gateNames[i] + \" and \" + gateNames[j])\n",
    "            f.write(\"{ id: '\" + str(i) + str(j) + \"', source: '\" + gateNames[i] + \"', target: '\" + gateNames[j] + \"', animated: true, style:{strokeWidth: \" + str(10 *(adjacencyMatrix[i][j])/maxValue + 1) + \"}},\")\n",
    "            f.write(\"\\n\")\n",
    "        \n",
    "f.close()\n",
    "    \n",
    "    \n",
    "# + \" people travelled between \" + str(gateNames[i]) + \" and \" + str(gateNames[j])\n",
    "        \n"
   ]
  },
  {
   "cell_type": "code",
   "execution_count": null,
   "id": "24ad2abc-6df0-461e-ab64-47ece86a0cbf",
   "metadata": {},
   "outputs": [],
   "source": []
  }
 ],
 "metadata": {
  "kernelspec": {
   "display_name": "Python 3 (ipykernel)",
   "language": "python",
   "name": "python3"
  },
  "language_info": {
   "codemirror_mode": {
    "name": "ipython",
    "version": 3
   },
   "file_extension": ".py",
   "mimetype": "text/x-python",
   "name": "python",
   "nbconvert_exporter": "python",
   "pygments_lexer": "ipython3",
   "version": "3.10.2"
  }
 },
 "nbformat": 4,
 "nbformat_minor": 5
}
